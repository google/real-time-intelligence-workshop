{
 "cells": [
  {
   "cell_type": "markdown",
   "id": "e974ebb8",
   "metadata": {},
   "source": [
    "Copyright 2023 Google LLC\n",
    "\n",
    "Licensed under the Apache License, Version 2.0 (the \"License\");\n",
    "you may not use this file except in compliance with the License.\n",
    "You may obtain a copy of the License at\n",
    "\n",
    "    https://www.apache.org/licenses/LICENSE-2.0\n",
    "\n",
    "Unless required by applicable law or agreed to in writing, software\n",
    "distributed under the License is distributed on an \"AS IS\" BASIS,\n",
    "WITHOUT WARRANTIES OR CONDITIONS OF ANY KIND, either express or implied.\n",
    "See the License for the specific language governing permissions and\n",
    "limitations under the License."
   ]
  },
  {
   "cell_type": "markdown",
   "id": "2d419814-3f29-4a93-8fc9-a26eac2e7439",
   "metadata": {},
   "source": [
    "### 1. Start with necessary imports"
   ]
  },
  {
   "cell_type": "code",
   "execution_count": null,
   "id": "3bcb5a61-b6f2-4c0b-8515-fc38666adbe1",
   "metadata": {},
   "outputs": [],
   "source": [
    "from google.cloud import pubsub_v1\n",
    "import json\n",
    "from datetime import datetime\n",
    "import random\n",
    "import time\n",
    "publisher = pubsub_v1.PublisherClient()"
   ]
  },
  {
   "cell_type": "markdown",
   "id": "29290d31-9ffb-4cbe-90e0-e508f2a49eae",
   "metadata": {},
   "source": [
    "### 2. Set the variables . These variables will be referenced in later sections"
   ]
  },
  {
   "cell_type": "code",
   "execution_count": null,
   "id": "3f189dbc-3ba8-41c9-a37c-1fc37a6256cd",
   "metadata": {},
   "outputs": [],
   "source": [
    "dest_project=!gcloud config get-value project\n",
    "project_id=dest_project[1]\n",
    "print(project_id)\n",
    "\n",
    "pubsub_topic                       = project_id + \"-\" + \"topic\" \n",
    "pubsub_topic_path                  = publisher.topic_path(project_id, pubsub_topic)\n"
   ]
  },
  {
   "cell_type": "markdown",
   "id": "cceca00c-2ca3-41f2-a80a-114010158947",
   "metadata": {},
   "source": [
    "### 3. Create the function to simulate the data"
   ]
  },
  {
   "cell_type": "code",
   "execution_count": null,
   "id": "dc71111e-778e-4df2-8e9c-96427df99fde",
   "metadata": {},
   "outputs": [],
   "source": [
    "def simulator(number):  \n",
    "    \n",
    "    i = 0    \n",
    "    while i < number:\n",
    "        json_object = json.dumps({\"SensorID\":\"75c18751-7a94-453e-86f5-67be2b0c8fd4\",'Timestamp': datetime.now().strftime('%Y-%m-%d %H:%M:%S.%f')[:-3],\"SensorValue\":random.uniform(100, 300)})\n",
    "        data = json_object.encode(\"utf-8\")\n",
    "        future = publisher.publish(pubsub_topic_path, data)\n",
    "        time.sleep(0.1)\n",
    "        i= i + 1\n",
    "\n"
   ]
  },
  {
   "cell_type": "markdown",
   "id": "07ab8e92-e4a4-4481-84bd-32b5a8881579",
   "metadata": {},
   "source": [
    "### 4.Run the simulator to test interactive runner"
   ]
  },
  {
   "cell_type": "code",
   "execution_count": null,
   "id": "3b84d710-7d27-4512-ae1e-5d3a618009fb",
   "metadata": {},
   "outputs": [],
   "source": [
    "#interactive test data simulation\n",
    "if __name__ == \"__main__\":\n",
    "    simulator(100)\n"
   ]
  },
  {
   "cell_type": "markdown",
   "id": "d7cfb1b2-e6ab-4da0-a584-599bbb0458a7",
   "metadata": {},
   "source": [
    "### 5.Run the simulator to test dataflow runner"
   ]
  },
  {
   "cell_type": "code",
   "execution_count": null,
   "id": "d4303433-773d-43f3-87cb-4a2c6fee2346",
   "metadata": {},
   "outputs": [],
   "source": [
    "#dataflow test data simulation\n",
    "if __name__ == \"__main__\":\n",
    "    simulator(5000)"
   ]
  }
 ],
 "metadata": {
  "kernelspec": {
   "display_name": "01. Apache Beam 2.45.0 for Python 3",
   "language": "python",
   "name": "01-apache-beam-2.45.0"
  },
  "language_info": {
   "codemirror_mode": {
    "name": "ipython",
    "version": 3
   },
   "file_extension": ".py",
   "mimetype": "text/x-python",
   "name": "python",
   "nbconvert_exporter": "python",
   "pygments_lexer": "ipython3",
   "version": "3.8.10"
  }
 },
 "nbformat": 4,
 "nbformat_minor": 5
}
